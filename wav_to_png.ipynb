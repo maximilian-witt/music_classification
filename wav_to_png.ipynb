{
 "cells": [
  {
   "cell_type": "code",
   "execution_count": 1,
   "metadata": {
    "scrolled": true
   },
   "outputs": [],
   "source": [
    "# Convert audio (wav) files into spectrograms (png) for image analysis with CNN"
   ]
  },
  {
   "cell_type": "code",
   "execution_count": null,
   "metadata": {},
   "outputs": [],
   "source": [
    "import os\n",
    "import numpy as np\n",
    "from glob import glob\n",
    "from scipy import signal\n",
    "from scipy.io import wavfile\n",
    "from scipy.interpolate import interp2d\n",
    "from PIL import Image\n",
    "from IPython.display import clear_output"
   ]
  },
  {
   "cell_type": "code",
   "execution_count": 11,
   "metadata": {},
   "outputs": [],
   "source": [
    "# Specify name and path of folder with audio files\n",
    "name = 'rihanna'\n",
    "path_in = 'data/' + name + '/'\n",
    "\n",
    "# Specifcy output folder for png\n",
    "#path_out = 'data_images/house/'\n",
    "path_out = 'data_images_test/' + name + '/'\n",
    "\n",
    "# Infer list of wav files\n",
    "wav_list = glob(path_in + '*.wav')"
   ]
  },
  {
   "cell_type": "code",
   "execution_count": 12,
   "metadata": {},
   "outputs": [],
   "source": [
    "# Set min and max frequencies for the spectrogram\n",
    "freq_min = 100\n",
    "freq_max = 10000\n",
    "# Use 100 frequencies with sqrt spacing\n",
    "freq_range = np.linspace(np.sqrt(freq_min),np.sqrt(freq_max),100)**2.\n",
    "\n",
    "# For 100x100 png files, use also 100 times for the spectrogram within the 5s audio files\n",
    "time_min = 0.025\n",
    "time_max = 4.975\n",
    "time_range = np.linspace(time_min,time_max,100)"
   ]
  },
  {
   "cell_type": "code",
   "execution_count": 13,
   "metadata": {
    "scrolled": true
   },
   "outputs": [
    {
     "name": "stdout",
     "output_type": "stream",
     "text": [
      "0056\n"
     ]
    }
   ],
   "source": [
    "# Convert wav to png\n",
    "for i in range(0,len(wav_list),1):\n",
    "    \n",
    "    # Optional: Use only every n-th audio file, if too many\n",
    "    #if( np.mod(i,3) == 0 ):\n",
    "    #    continue\n",
    "    \n",
    "    filename = wav_list[i].split('\\\\')[-1][:-4]\n",
    "    \n",
    "    clear_output(wait=True)\n",
    "    print(filename)\n",
    "    \n",
    "    # Read data from audio file\n",
    "    sample_rate, samples = wavfile.read(path_in + filename + '.wav')\n",
    "    samples = (np.transpose(samples)[0] + np.transpose(samples)[1])/2.\n",
    "\n",
    "    # Set nperseg parameter to fit desired spectrogram\n",
    "    nperseg = int(sample_rate/20.)\n",
    "\n",
    "    # Calculcate spectrogram with SciPy\n",
    "    frequencies, times, spectrogram = signal.spectrogram(samples, sample_rate,\n",
    "                                                         nperseg = nperseg , noverlap=0, nfft = 2*nperseg)\n",
    "\n",
    "    # Interpolate spectrogram\n",
    "    SpectrInt = interp2d(times,frequencies,spectrogram)\n",
    "\n",
    "    # Take sqrt of spectrogram values for better contrast (log does not yield sufficient results)\n",
    "    new_spectrogram = np.sqrt( SpectrInt(time_range,freq_range) )\n",
    "\n",
    "    # Reshape for more intuitive image (low frequencies at bottom)\n",
    "    new_spectrogram = new_spectrogram[::-1]\n",
    "\n",
    "    # Rescale\n",
    "    rescaled = (255.0 / new_spectrogram.max() * (new_spectrogram - new_spectrogram.min())).astype(np.uint8)\n",
    "\n",
    "    # Save png\n",
    "    im = Image.fromarray(rescaled)\n",
    "    im.save(path_out + filename + '.png')"
   ]
  },
  {
   "cell_type": "code",
   "execution_count": null,
   "metadata": {},
   "outputs": [],
   "source": []
  },
  {
   "cell_type": "code",
   "execution_count": 18,
   "metadata": {},
   "outputs": [
    {
     "data": {
      "text/plain": [
       "<matplotlib.image.AxesImage at 0x24ba4061248>"
      ]
     },
     "execution_count": 18,
     "metadata": {},
     "output_type": "execute_result"
    },
    {
     "data": {
      "image/png": "[encoded data removed]",
      "text/plain": [
       "<Figure size 432x288 with 1 Axes>"
      ]
     },
     "metadata": {
      "needs_background": "light"
     },
     "output_type": "display_data"
    }
   ],
   "source": [
    "# Display example spectrogram\n",
    "import matplotlib.pyplot as plt\n",
    "from matplotlib.image import imread\n",
    "test = imread(path_out + '0001.png')\n",
    "plt.imshow(test,cmap='Greys')"
   ]
  },
  {
   "cell_type": "code",
   "execution_count": null,
   "metadata": {},
   "outputs": [],
   "source": []
  }
 ],
 "metadata": {
  "kernelspec": {
   "display_name": "TF2",
   "language": "python",
   "name": "tf2"
  },
  "language_info": {
   "codemirror_mode": {
    "name": "ipython",
    "version": 3
   },
   "file_extension": ".py",
   "mimetype": "text/x-python",
   "name": "python",
   "nbconvert_exporter": "python",
   "pygments_lexer": "ipython3",
   "version": "3.7.7"
  }
 },
 "nbformat": 4,
 "nbformat_minor": 4
}
