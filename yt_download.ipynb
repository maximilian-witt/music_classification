{
 "cells": [
  {
   "cell_type": "code",
   "execution_count": 4,
   "metadata": {},
   "outputs": [],
   "source": [
    "### Download Audio files from YouTube with pytube and cut/convert them with ffmpeg"
   ]
  },
  {
   "cell_type": "code",
   "execution_count": 5,
   "metadata": {},
   "outputs": [],
   "source": [
    "import os\n",
    "from pytube import YouTube"
   ]
  },
  {
   "cell_type": "code",
   "execution_count": 6,
   "metadata": {},
   "outputs": [],
   "source": [
    "# Specifcy link and download path\n",
    "\n",
    "# 10 hour death metal mix\n",
    "#yt_link = 'https://www.youtube.com/watch?v=PFrywHR_vQA'\n",
    "# 10 hour blues mix\n",
    "#yt_link = 'https://www.youtube.com/watch?v=NmVNQQZ-o_k'\n",
    "# 10 hour RnB instrumental mix\n",
    "#yt_link = 'https://www.youtube.com/watch?v=wMG-sp8OvL8'\n",
    "# 2 hour heavy metal mix\n",
    "#yt_link = 'https://www.youtube.com/watch?v=80lKLqLm16I'\n",
    "# 3 hour house mix\n",
    "#yt_link = 'https://www.youtube.com/watch?v=-RkQDlUV4Fc'\n",
    "# BB King - Lucille\n",
    "#yt_link = 'https://www.youtube.com/watch?v=-Y8QxOjuYHg'\n",
    "# Kataklysm - Shadows & Dust\n",
    "# yt_link = 'https://www.youtube.com/watch?v=s7FgQscltl8'\n",
    "# Rihanna - Diamonds\n",
    "yt_link = 'https://www.youtube.com/watch?v=lWA2pjMjpBs'\n",
    "\n",
    "download_path = 'data_audio/'"
   ]
  },
  {
   "cell_type": "code",
   "execution_count": 9,
   "metadata": {},
   "outputs": [],
   "source": [
    "# Download\n",
    "yt = YouTube(yt_link)\n",
    "file = yt.title\n",
    "file_path = yt.streams.get_audio_only().download(download_path)"
   ]
  },
  {
   "cell_type": "code",
   "execution_count": 4,
   "metadata": {},
   "outputs": [],
   "source": [
    "# Commands for ffmpeg to chunk into 5 s batches and convert these to wav\n",
    "\n",
    "# ffmpeg -i mp4_deathmetal.mp4 -f segment -segment_time 5 -segment_format mp4 -c copy deathmetal/dm%04d.mp4\n",
    "\n",
    "# for /f \"tokens=1 delims=.\" %a in ('dir /B *.mp4') do ffmpeg -i \"%a.mp4\" \"%a.wav\"\n",
    "\n"
   ]
  }
 ],
 "metadata": {
  "kernelspec": {
   "display_name": "TF2",
   "language": "python",
   "name": "tf2"
  },
  "language_info": {
   "codemirror_mode": {
    "name": "ipython",
    "version": 3
   },
   "file_extension": ".py",
   "mimetype": "text/x-python",
   "name": "python",
   "nbconvert_exporter": "python",
   "pygments_lexer": "ipython3",
   "version": "3.7.7"
  }
 },
 "nbformat": 4,
 "nbformat_minor": 4
}
